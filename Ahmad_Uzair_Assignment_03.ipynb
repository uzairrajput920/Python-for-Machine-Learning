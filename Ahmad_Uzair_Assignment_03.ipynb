{
 "cells": [
  {
   "cell_type": "markdown",
   "id": "97dd878a",
   "metadata": {},
   "source": [
    "### Assignment-03 (Strings)\n",
    "- Change the notebook name with your name and Roll Number.\n",
    "- Try this as your own, no chatgpt (it's for your learning)\n",
    "- after completing the assignment, submit this book on google class room."
   ]
  },
  {
   "cell_type": "markdown",
   "id": "e2bd2715",
   "metadata": {},
   "source": [
    "Create a string variable with your name and print it.\n"
   ]
  },
  {
   "cell_type": "code",
   "execution_count": null,
   "id": "bb419df7",
   "metadata": {},
   "outputs": [],
   "source": [
    "string=\"ahmaduzair\"\n",
    "print(string)"
   ]
  },
  {
   "cell_type": "markdown",
   "id": "038709aa",
   "metadata": {},
   "source": [
    "Define a multiline string that includes line breaks and print it.\n"
   ]
  },
  {
   "cell_type": "code",
   "execution_count": null,
   "id": "707d597b",
   "metadata": {},
   "outputs": [],
   "source": [
    "multiline_string= \"\"\"this is a multiline string.\n",
    "It can span multiple lines.\n",
    "Each line will be printed as it is.\"\"\"\n",
    "print (multiline_string)"
   ]
  },
  {
   "cell_type": "markdown",
   "id": "0c79c559",
   "metadata": {},
   "source": [
    "Access the first character of a string.\n"
   ]
  },
  {
   "cell_type": "code",
   "execution_count": null,
   "id": "3dd571a7",
   "metadata": {},
   "outputs": [],
   "source": [
    "str=\"welconme to python\"\n",
    "first_character=str[0]\n",
    "print (first_character)"
   ]
  },
  {
   "cell_type": "markdown",
   "id": "eea487fc",
   "metadata": {},
   "source": [
    "Access the last character of a string.\n"
   ]
  },
  {
   "cell_type": "code",
   "execution_count": null,
   "id": "3efc26a3",
   "metadata": {},
   "outputs": [],
   "source": [
    "str= \"Hello World\"\n",
    "last_charcter=str[10]\n",
    "print(last_charcter)"
   ]
  },
  {
   "cell_type": "markdown",
   "id": "eafa1f78",
   "metadata": {},
   "source": [
    "Access the second to the fifth character of a string."
   ]
  },
  {
   "cell_type": "code",
   "execution_count": null,
   "id": "1a183435",
   "metadata": {},
   "outputs": [],
   "source": [
    "str=\"hey python\"\n",
    "chr=str[2:5]\n",
    "print(chr)"
   ]
  },
  {
   "cell_type": "markdown",
   "id": "345dabe1",
   "metadata": {},
   "source": [
    "Attempt to change a character within an existing string and explain the result.\n"
   ]
  },
  {
   "cell_type": "code",
   "execution_count": null,
   "id": "4a2c3c34",
   "metadata": {},
   "outputs": [],
   "source": [
    "#as we cannot do changes in the strings as we know string are immutable & thus the only method to attempt changing a chracter is adding a new string.\n",
    "#for example\n",
    "str=\"hello world\"\n",
    "new_string= \"H\" + str[1:]\n",
    "print (new_string)"
   ]
  },
  {
   "cell_type": "markdown",
   "id": "915097a4",
   "metadata": {},
   "source": [
    "\n",
    "Slice a string to obtain the first 3 characters.\n"
   ]
  },
  {
   "cell_type": "code",
   "execution_count": null,
   "id": "eeafdee2",
   "metadata": {},
   "outputs": [],
   "source": [
    "str=\"this is python library\"\n",
    "first_three_characters=str[:3]\n",
    "print(first_three_characters)"
   ]
  },
  {
   "cell_type": "markdown",
   "id": "97f70e4d",
   "metadata": {},
   "source": [
    "Slice a string to obtain the last 4 characters.\n"
   ]
  },
  {
   "cell_type": "code",
   "execution_count": null,
   "id": "cd07247a",
   "metadata": {},
   "outputs": [],
   "source": [
    "string=\"welcome to punjab university\"\n",
    "last_four_characters=string[-4:-1]\n",
    "print(last_four_characters)"
   ]
  },
  {
   "cell_type": "markdown",
   "id": "db421ce3",
   "metadata": {},
   "source": [
    "Slice a string to get every second character.\n"
   ]
  },
  {
   "cell_type": "code",
   "execution_count": null,
   "id": "a8b066a6",
   "metadata": {},
   "outputs": [],
   "source": [
    "str=\"Welcome python\"\n",
    "chr=str[::2]\n",
    "print (chr)"
   ]
  },
  {
   "cell_type": "markdown",
   "id": "ff5b4751",
   "metadata": {},
   "source": [
    "Reverse a string using slicing."
   ]
  },
  {
   "cell_type": "code",
   "execution_count": null,
   "id": "c4c4c969",
   "metadata": {},
   "outputs": [],
   "source": [
    "str1=\"this is machine learning\"\n",
    "reverse=str[::-1]\n",
    "print(reverse)"
   ]
  },
  {
   "cell_type": "markdown",
   "id": "c8b7f82a",
   "metadata": {},
   "source": [
    "Create two string variables and concatenate them.\n",
    "\n"
   ]
  },
  {
   "cell_type": "code",
   "execution_count": null,
   "id": "c4d4f5ae",
   "metadata": {},
   "outputs": [],
   "source": [
    "str1=\"Madam\"\n",
    "str2=\"web\"\n",
    "concatenate_str= str1+\" \"+str2\n",
    "print(concatenate_str)"
   ]
  },
  {
   "cell_type": "markdown",
   "id": "13e8d4b1",
   "metadata": {},
   "source": [
    "Concatenate a string with a number (convert the number to a string first)."
   ]
  },
  {
   "cell_type": "code",
   "execution_count": null,
   "id": "cc366c5e",
   "metadata": {},
   "outputs": [],
   "source": [
    "str=\"this is python\"\n",
    "number=45\n",
    "concatenate_str=str +\" \"+str(number)\n",
    "print (concatenate_str)\n"
   ]
  },
  {
   "cell_type": "markdown",
   "id": "201b3886",
   "metadata": {},
   "source": [
    "Generate a string that repeats \"abc\" 10 times.\n",
    "\n"
   ]
  },
  {
   "cell_type": "code",
   "execution_count": null,
   "id": "01d068c1",
   "metadata": {},
   "outputs": [],
   "source": [
    "repeat_string= \"abcdefg\" * 10\n",
    "print(repeat_string)"
   ]
  },
  {
   "cell_type": "markdown",
   "id": "c668c12f",
   "metadata": {},
   "source": [
    "Create a string containing a repeating pattern of your choice."
   ]
  },
  {
   "cell_type": "code",
   "execution_count": null,
   "id": "948db73c",
   "metadata": {},
   "outputs": [],
   "source": [
    "repeat_string= \"abcdefg\" * 10\n",
    "print(repeat_string)"
   ]
  },
  {
   "cell_type": "markdown",
   "id": "597fce86",
   "metadata": {},
   "source": [
    "Convert a string to lowercase using the lower() method.\n"
   ]
  },
  {
   "cell_type": "code",
   "execution_count": null,
   "id": "091297bd",
   "metadata": {},
   "outputs": [],
   "source": [
    "str2=\"HELLO WORLD\"\n",
    "lower_case=str2.lower()\n",
    "print(lower_case)"
   ]
  },
  {
   "cell_type": "markdown",
   "id": "e96bb408",
   "metadata": {},
   "source": [
    "\n",
    "Convert a string to uppercase using the upper() method.\n"
   ]
  },
  {
   "cell_type": "code",
   "execution_count": null,
   "id": "a2598fc3",
   "metadata": {},
   "outputs": [],
   "source": [
    "str3 =\"bye bye world\"\n",
    "upper_case= str3.upper()\n",
    "print(upper_case)"
   ]
  },
  {
   "cell_type": "markdown",
   "id": "92ab5b20",
   "metadata": {},
   "source": [
    "Remove leading and trailing whitespace from a string using the strip() method.\n"
   ]
  },
  {
   "cell_type": "code",
   "execution_count": null,
   "id": "0507e93a",
   "metadata": {},
   "outputs": [],
   "source": [
    "string4= \"python lab!\"\n",
    "my_string= string4.strip()\n",
    "print(my_string)\n"
   ]
  },
  {
   "cell_type": "markdown",
   "id": "a91e7489",
   "metadata": {},
   "source": [
    "Check if a string starts with a specific prefix using the startswith() method.\n"
   ]
  },
  {
   "cell_type": "code",
   "execution_count": null,
   "id": "3c01dd7d",
   "metadata": {},
   "outputs": [],
   "source": [
    "str5= \"specific prefix\"\n",
    "prefix= \"specific\"\n",
    "if str5.startswith(prefix):\n",
    "   print(\"the string start with the prefix\")\n",
    "else:\n",
    "   print(\"the string does not start with the prefix\")\n"
   ]
  },
  {
   "cell_type": "markdown",
   "id": "4b8b4581",
   "metadata": {},
   "source": [
    "Split a string into a list of words using the split() method.\n"
   ]
  },
  {
   "cell_type": "code",
   "execution_count": null,
   "id": "5bcc4070",
   "metadata": {},
   "outputs": [],
   "source": [
    "str6=\"Hello, I am a student of Python.\"\n",
    "word_list=str6.split()\n",
    "print(word_list)\n",
    "\n"
   ]
  },
  {
   "cell_type": "markdown",
   "id": "37dd8ff8",
   "metadata": {},
   "source": [
    "Join a list of words into a single string using the join() method."
   ]
  },
  {
   "cell_type": "code",
   "execution_count": null,
   "id": "473860cd",
   "metadata": {},
   "outputs": [],
   "source": [
    "list_of_words= ['World', 'to', 'Hello', 'Python', 'Welcome']\n",
    "join_str= \" \".join(list_of_words)\n",
    "print(join_str)\n"
   ]
  }
 ],
 "metadata": {
  "kernelspec": {
   "display_name": "Python 3 (ipykernel)",
   "language": "python",
   "name": "python3"
  },
  "language_info": {
   "codemirror_mode": {
    "name": "ipython",
    "version": 3
   },
   "file_extension": ".py",
   "mimetype": "text/x-python",
   "name": "python",
   "nbconvert_exporter": "python",
   "pygments_lexer": "ipython3",
   "version": "3.10.13"
  }
 },
 "nbformat": 4,
 "nbformat_minor": 5
}
