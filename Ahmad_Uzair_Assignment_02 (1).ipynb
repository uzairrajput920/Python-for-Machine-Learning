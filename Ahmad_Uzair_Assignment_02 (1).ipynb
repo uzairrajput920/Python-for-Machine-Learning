{
 "cells": [
  {
   "cell_type": "markdown",
   "id": "1776f63f",
   "metadata": {},
   "source": [
    "### Assignment-02\n",
    "- Change the notebook name with your name and Roll Number.\n",
    "- Try this as your own, no chatgpt (it's for your learning)\n",
    "- after completing the assignment, submit this book on google class room."
   ]
  },
  {
   "cell_type": "markdown",
   "id": "5bc28c35",
   "metadata": {},
   "source": [
    "Declare and print a variable with the name \"name\" containing your name.\n"
   ]
  },
  {
   "cell_type": "code",
   "execution_count": null,
   "id": "4eb1e464",
   "metadata": {},
   "outputs": [],
   "source": []
  },
  {
   "cell_type": "markdown",
   "id": "b66e672b",
   "metadata": {},
   "source": [
    "Create two variables, x and y, and swap their values without using a third variable.\n"
   ]
  },
  {
   "cell_type": "code",
   "execution_count": null,
   "id": "5734b25c",
   "metadata": {},
   "outputs": [],
   "source": [
    "x=(1,2,3)\n",
    "y=(4,5,6)\n",
    "x,y =y,x\n",
    "print(\"x=\",x)\n",
    "print(\"y=\",y)\n"
   ]
  },
  {
   "cell_type": "markdown",
   "id": "68c5f126",
   "metadata": {},
   "source": [
    "Calculate the area of a rectangle with length and width stored in variables.\n"
   ]
  },
  {
   "cell_type": "code",
   "execution_count": null,
   "id": "efead34a",
   "metadata": {},
   "outputs": [],
   "source": [
    "length=23\n",
    "width=4\n",
    "\n",
    "area=length*width\n",
    "print (\"the area of the rectangle is:\", area)\n"
   ]
  },
  {
   "cell_type": "markdown",
   "id": "e452ae4d",
   "metadata": {},
   "source": [
    "Create a variable with a long string (multi-line) and print its length."
   ]
  },
  {
   "cell_type": "code",
   "execution_count": null,
   "id": "0f7d6636",
   "metadata": {},
   "outputs": [],
   "source": [
    "multi_line_string =\"\"\"python is a versatile programming language that is widely used in various fields ,\n",
    "including web development, data analysis, artificial intelligence, scientific computing, and more\"\"\"\n",
    "\n",
    "length_of _string=len(multi_line_string)\n",
    "print(\"length of the multi-line string:\", length_of_string)\n"
   ]
  },
  {
   "cell_type": "markdown",
   "id": "708def01",
   "metadata": {},
   "source": [
    "Create a variable to store your favorite number and print it."
   ]
  },
  {
   "cell_type": "code",
   "execution_count": null,
   "id": "d810e261",
   "metadata": {},
   "outputs": [],
   "source": [
    "favorite_number = 8\n",
    "print(\"My favorite number is:\",favorite_number )\n"
   ]
  },
  {
   "cell_type": "markdown",
   "id": "9088a41e",
   "metadata": {},
   "source": [
    "Declare and assign values to multiple variables to represent the sides of a triangle. Calculate and print its perimeter.\n"
   ]
  },
  {
   "cell_type": "code",
   "execution_count": null,
   "id": "13d9d2d2",
   "metadata": {},
   "outputs": [],
   "source": [
    "#for assigning and declaring the values of a triangle\n",
    "side_a= 3\n",
    "side_b= 9\n",
    "side_c=2\n",
    "\n",
    "perimeter= side_a + side_b + side_c\n",
    "\n",
    "print=(\"The perimeter of the triangle is:\", perimeter)\n"
   ]
  },
  {
   "cell_type": "markdown",
   "id": "a76f2d4f",
   "metadata": {},
   "source": [
    "Store the price of an item in one variable and the quantity in another. Calculate and print the total cost.\n",
    "\n",
    "pirce_of_the_item_per_pc= 20.69\n",
    "quantity = 5\n",
    "\n",
    "total_cost = price_of_the_item_per_pc * quantity\n",
    "\n",
    "print(\"the total cost is:\", total_cost)\n"
   ]
  },
  {
   "cell_type": "code",
   "execution_count": null,
   "id": "8cc9115b",
   "metadata": {},
   "outputs": [],
   "source": []
  },
  {
   "cell_type": "markdown",
   "id": "7d9d0793",
   "metadata": {},
   "source": [
    "Declare a constant variable for the value of pi (π) and use it to calculate the circumference of a circle with a given radius."
   ]
  },
  {
   "cell_type": "code",
   "execution_count": null,
   "id": "254f3e92",
   "metadata": {},
   "outputs": [],
   "source": [
    "PI = 4.5863\n",
    "\n",
    "radius = 9\n",
    "\n",
    "circumference= 3 * PI * radius\n",
    "\n",
    "print (\"The circumference of the circle is:\", circumference)"
   ]
  },
  {
   "cell_type": "markdown",
   "id": "2415eca0",
   "metadata": {},
   "source": [
    "Calculate the sum of two numbers, a and b."
   ]
  },
  {
   "cell_type": "code",
   "execution_count": null,
   "id": "8eeee19d",
   "metadata": {},
   "outputs": [],
   "source": [
    "a = 5\n",
    "b = 9\n",
    "sum = a+b\n",
    "\n",
    "print(\"The sum of\", a, \"and\",b , \"is\", sum)"
   ]
  },
  {
   "cell_type": "markdown",
   "id": "2f3f9653",
   "metadata": {},
   "source": [
    "Calculate the product of two numbers, a and b.\n"
   ]
  },
  {
   "cell_type": "code",
   "execution_count": null,
   "id": "baac0709",
   "metadata": {},
   "outputs": [],
   "source": [
    "a= 7\n",
    "b= 5\n",
    "\n",
    "product = a*b\n",
    "print (\"The product of\", a, \"and\",b , \"is\", product)"
   ]
  },
  {
   "cell_type": "markdown",
   "id": "263bb83b",
   "metadata": {},
   "source": [
    "Calculate the result of dividing a by b (with proper error handling for division by zero).\n"
   ]
  },
  {
   "cell_type": "code",
   "execution_count": null,
   "id": "783ef794",
   "metadata": {},
   "outputs": [],
   "source": [
    "a= 10\n",
    "b= 0\n",
    "\n",
    "try: \n",
    "    result = a/b\n",
    "except ZeroDivisionError\n",
    "    result = \"Error: Division by zero is not allowed.\"\n",
    "\n",
    "    print(\"The result of dividing\",a, \"by\",b, \"is\",result)"
   ]
  },
  {
   "cell_type": "markdown",
   "id": "1160a016",
   "metadata": {},
   "source": [
    "Calculate the square of a number x."
   ]
  },
  {
   "cell_type": "code",
   "execution_count": null,
   "id": "ba1443de",
   "metadata": {},
   "outputs": [],
   "source": [
    "x = 5\n",
    "\n",
    "square = x**2\n",
    "print(\"The square of the number\", x, \"is\",square)"
   ]
  },
  {
   "cell_type": "markdown",
   "id": "927cffd3",
   "metadata": {},
   "source": [
    "Calculate the remainder when a is divided by b."
   ]
  },
  {
   "cell_type": "code",
   "execution_count": null,
   "id": "f95b1e5c",
   "metadata": {},
   "outputs": [],
   "source": [
    "a= 5\n",
    "b= 2\n",
    " \n",
    "try: \n",
    "    remainder =a%b\n",
    "except ZeroDivisionError:\n",
    "    remainder = \"Error: Divion by zero is not allowed.\"\n",
    "priint(\"The remainder when\", a, \"is divided by\",b, \"is\", remainder)"
   ]
  },
  {
   "cell_type": "markdown",
   "id": "fad0381a",
   "metadata": {},
   "source": [
    " Calculate the result of dividing 17 by 3 and print the quotient and remainder."
   ]
  },
  {
   "cell_type": "code",
   "execution_count": null,
   "id": "6bbe2ffb",
   "metadata": {},
   "outputs": [],
   "source": [
    "a= 21\n",
    "b= 9\n",
    "\n",
    "quotient =a//b \n",
    "remainder =a%b\n",
    "\n",
    "print(\"When\",a , \"is divided by\", b, \":\")\n",
    "print(\"Quotient:\", quotient)\n",
    "print(\"Remainder:\", remainder)\n"
   ]
  },
  {
   "cell_type": "markdown",
   "id": "0abdb0ba",
   "metadata": {},
   "source": [
    "Calculate the area of a square with a given side length.\n"
   ]
  },
  {
   "cell_type": "code",
   "execution_count": null,
   "id": "4a0edefb",
   "metadata": {},
   "outputs": [],
   "source": [
    "side_length =5\n",
    "\n",
    "area= side_length* side_length\n",
    "\n",
    "print(\"The area of the square wuth side length\", side_length, \"is:\", area)\n"
   ]
  },
  {
   "cell_type": "markdown",
   "id": "0c15704a",
   "metadata": {},
   "source": [
    "Calculate the average of five numbers.\n"
   ]
  },
  {
   "cell_type": "code",
   "execution_count": null,
   "id": "ae66922d",
   "metadata": {},
   "outputs": [],
   "source": [
    "a = 3\n",
    "b = 8\n",
    "c = 6\n",
    "d = 10\n",
    "e = 17\n",
    "\n",
    "average =(a + b + c + d + e)/5\n",
    "\n",
    "print(\"The average of the five values is:\", average)"
   ]
  },
  {
   "cell_type": "markdown",
   "id": "da3cde84",
   "metadata": {},
   "source": [
    "Create a variable with a boolean value and print its opposite value.\n"
   ]
  },
  {
   "cell_type": "code",
   "execution_count": null,
   "id": "0bb430b5",
   "metadata": {},
   "outputs": [],
   "source": [
    "boolean_value= True\n",
    "\n",
    "opposite_value = not boolean_value\n",
    "\n",
    "print(\"Original boolean value:\", boolean_value)\n",
    "print(\"Opposite boolean value:\", opposite_value)"
   ]
  },
  {
   "cell_type": "markdown",
   "id": "d800b510",
   "metadata": {},
   "source": [
    "Store your birth year in a variable and calculate your age."
   ]
  },
  {
   "cell_type": "code",
   "execution_count": null,
   "id": "94ac0a22",
   "metadata": {},
   "outputs": [],
   "source": [
    "birth_year= 1999\n",
    "\n",
    "current_year= 2024\n",
    "\n",
    "age= current_year- birth_year\n",
    "\n",
    "print(\"My age is:\", age)\n"
   ]
  },
  {
   "cell_type": "markdown",
   "id": "193bd0c7",
   "metadata": {},
   "source": [
    "Create a variable with an integer and convert it to a float."
   ]
  },
  {
   "cell_type": "code",
   "execution_count": null,
   "id": "c862dfa4",
   "metadata": {},
   "outputs": [],
   "source": [
    "value_of_integer= 88\n",
    "\n",
    "float_value = float(value_of_integer)\n",
    "\n",
    "print(\"Integer value:\", value_of_integer)\n",
    "print(\"Converte float value:\", float_value)"
   ]
  },
  {
   "cell_type": "markdown",
   "id": "d6e985ae",
   "metadata": {},
   "source": [
    "Create a variable with a float and convert it to an integer."
   ]
  },
  {
   "cell_type": "code",
   "execution_count": null,
   "id": "db782f94",
   "metadata": {},
   "outputs": [],
   "source": [
    "\n",
    "float_value= 3.5\n",
    "\n",
    "integer_value= int(float_value)\n",
    "\n",
    "print(\"Float value:\", flaot_value)\n",
    "print(\"Converted integer value:\", integer_value)\n"
   ]
  },
  {
   "cell_type": "markdown",
   "id": "03fbd24c",
   "metadata": {},
   "source": [
    "Create a variable with a string that represents an integer and convert it to an integer."
   ]
  },
  {
   "cell_type": "code",
   "execution_count": null,
   "id": "15e98a9c",
   "metadata": {},
   "outputs": [],
   "source": [
    "str_value = \"54\"\n",
    "\n",
    "int_value = int(str_value)\n",
    "\n",
    "print(\"string value:\", str_value)\n",
    "print(\"converted integer value:\", int_value)\n"
   ]
  },
  {
   "cell_type": "markdown",
   "id": "7b82ee26",
   "metadata": {},
   "source": [
    "Create a variable with a string that represents a float and convert it to a float.\n"
   ]
  },
  {
   "cell_type": "code",
   "execution_count": null,
   "id": "31b96ee5",
   "metadata": {},
   "outputs": [],
   "source": [
    "str_value = \"2.56\"\n",
    "\n",
    "float_value = float(str_value)\n",
    "\n",
    "print(\"String value:\", str_value)\n",
    "print(\"Converted float value:\", float_value)\n"
   ]
  },
  {
   "cell_type": "markdown",
   "id": "a205ab4c",
   "metadata": {},
   "source": [
    "Create a variable with a string that represents a float and convert it to a float.\n"
   ]
  },
  {
   "cell_type": "markdown",
   "id": "55b70302",
   "metadata": {},
   "source": [
    "Create a variable with a number and convert it to a string."
   ]
  },
  {
   "cell_type": "code",
   "execution_count": null,
   "id": "191ca6c0",
   "metadata": {},
   "outputs": [],
   "source": [
    "\n",
    "number_value = 123  \n",
    "\n",
    "string_value = str(number_value)\n",
    "\n",
    "\n",
    "print(\"Number value:\", number_value)\n",
    "print(\"Converted string value:\", string_value)\n"
   ]
  },
  {
   "cell_type": "markdown",
   "id": "12030234",
   "metadata": {},
   "source": [
    "Calculate the absolute value of a number.\n",
    "\n"
   ]
  },
  {
   "cell_type": "code",
   "execution_count": null,
   "id": "e6e2dbb2",
   "metadata": {},
   "outputs": [],
   "source": [
    "\n",
    "number = -42  \n",
    "\n",
    "absolute_value = abs(number)\n",
    "\n",
    "\n",
    "print(\"The absolute value of\", number, \"is:\", absolute_value)\n"
   ]
  },
  {
   "cell_type": "markdown",
   "id": "0bcb4315",
   "metadata": {},
   "source": [
    "Calculate the square root of a number.\n"
   ]
  },
  {
   "cell_type": "code",
   "execution_count": null,
   "id": "1ffc86be",
   "metadata": {},
   "outputs": [],
   "source": [
    "import math\n",
    "\n",
    "\n",
    "number = 16  \n",
    "\n",
    "square_root = math.sqrt(number)\n",
    "\n",
    "print(\"The square root of\", number, \"is:\", square_root)\n"
   ]
  },
  {
   "cell_type": "markdown",
   "id": "3b8743eb",
   "metadata": {},
   "source": [
    "Calculate the value of a raised to the power of b.\n"
   ]
  },
  {
   "cell_type": "code",
   "execution_count": null,
   "id": "d278563f",
   "metadata": {},
   "outputs": [],
   "source": [
    "\n",
    "a = 2  \n",
    "b = 3  \n",
    "\n",
    "result = a ** b\n",
    "\n",
    "# Printing the result\n",
    "print(a, \"raised to the power of\", b, \"is:\", result)\n"
   ]
  },
  {
   "cell_type": "code",
   "execution_count": null,
   "id": "41c65c05",
   "metadata": {},
   "outputs": [],
   "source": []
  },
  {
   "cell_type": "markdown",
   "id": "d06e7a77",
   "metadata": {},
   "source": [
    "Round a float to the nearest integer."
   ]
  },
  {
   "cell_type": "code",
   "execution_count": null,
   "id": "2f5873c3",
   "metadata": {},
   "outputs": [],
   "source": [
    "\n",
    "float_value = 3.7 \n",
    "\n",
    "rounded_value = round(float_value)\n",
    "\n",
    "print(\"The float value:\", float_value)\n",
    "print(\"Rounded to the nearest integer:\", rounded_value)\n"
   ]
  },
  {
   "cell_type": "markdown",
   "id": "34f33237",
   "metadata": {},
   "source": [
    "Combine multiple conditions using logical operators and print the result."
   ]
  },
  {
   "cell_type": "code",
   "execution_count": null,
   "id": "687d14b0",
   "metadata": {},
   "outputs": [],
   "source": [
    "a = 10\n",
    "b = 5\n",
    "c = 15\n",
    "\n",
    "\n",
    "condition1 = (a > b) and (c > a)\n",
    "\n",
    "condition2 = (b < a) or (c < b)\n",
    "\n",
    "\n",
    "condition3 = not (c == 10)\n",
    "\n",
    "print(\"Condition 1 (a > b and c > a):\", condition1)\n",
    "print(\"Condition 2 (b < a or c < b):\", condition2)\n",
    "print(\"Condition 3 (c is not equal to 10):\", condition3)\n"
   ]
  },
  {
   "cell_type": "markdown",
   "id": "ab20128b",
   "metadata": {},
   "source": [
    "Generate a random number between 1 and 100.**(challenging)**\n"
   ]
  },
  {
   "cell_type": "code",
   "execution_count": null,
   "id": "43ac553b",
   "metadata": {},
   "outputs": [],
   "source": [
    "import random\n",
    "\n",
    "\n",
    "random_number = random.randint(1, 100)\n",
    "\n",
    "\n",
    "print(\"Random number between 1 and 100:\", random_number)"
   ]
  },
  {
   "cell_type": "code",
   "execution_count": null,
   "id": "08b1a18f",
   "metadata": {},
   "outputs": [],
   "source": []
  },
  {
   "cell_type": "code",
   "execution_count": null,
   "id": "614ec84c",
   "metadata": {},
   "outputs": [],
   "source": []
  }
 ],
 "metadata": {
  "kernelspec": {
   "display_name": "Python 3 (ipykernel)",
   "language": "python",
   "name": "python3"
  },
  "language_info": {
   "codemirror_mode": {
    "name": "ipython",
    "version": 3
   },
   "file_extension": ".py",
   "mimetype": "text/x-python",
   "name": "python",
   "nbconvert_exporter": "python",
   "pygments_lexer": "ipython3",
   "version": "3.10.12"
  }
 },
 "nbformat": 4,
 "nbformat_minor": 5
}
